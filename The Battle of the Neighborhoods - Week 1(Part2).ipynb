{
 "cells": [
  {
   "cell_type": "markdown",
   "metadata": {},
   "source": [
    "# The Battle of the Neighborhoods - Week 1"
   ]
  },
  {
   "cell_type": "markdown",
   "metadata": {},
   "source": [
    "## Data :"
   ]
  },
  {
   "cell_type": "markdown",
   "metadata": {},
   "source": [
    "One city will be analysed in this project : __Bangalore City.__\n",
    "\n",
    "We will be using the below datasets for analysing Bangalore city.\n",
    "\n",
    "__Data1:__\n",
    "I dont found any prepaired database for indicating bangalore places with their Geolocations. \n",
    "So i decided to make one on my own.\n",
    "Firstly i divided Bangalore city with their respective Pincodes. Using this site https://www.mapsofindia.com/pincode/india/karnataka/bangalore/  to identify pincodes of bangalore City."
   ]
  },
  {
   "cell_type": "markdown",
   "metadata": {},
   "source": [
    "__Data2:__ Then using https://indiamapia.com site to collect the geolocation of every pincode belong to Bangalore and make one csv file of that data. File name is \n",
    "*'Bangalore_pincode_geolocation.csv'*"
   ]
  },
  {
   "cell_type": "code",
   "execution_count": 1,
   "metadata": {},
   "outputs": [
    {
     "data": {
      "text/html": [
       "<div>\n",
       "<style scoped>\n",
       "    .dataframe tbody tr th:only-of-type {\n",
       "        vertical-align: middle;\n",
       "    }\n",
       "\n",
       "    .dataframe tbody tr th {\n",
       "        vertical-align: top;\n",
       "    }\n",
       "\n",
       "    .dataframe thead th {\n",
       "        text-align: right;\n",
       "    }\n",
       "</style>\n",
       "<table border=\"1\" class=\"dataframe\">\n",
       "  <thead>\n",
       "    <tr style=\"text-align: right;\">\n",
       "      <th></th>\n",
       "      <th>Pincode</th>\n",
       "      <th>Location</th>\n",
       "      <th>Latitude</th>\n",
       "      <th>Longitude</th>\n",
       "    </tr>\n",
       "  </thead>\n",
       "  <tbody>\n",
       "    <tr>\n",
       "      <th>0</th>\n",
       "      <td>560001</td>\n",
       "      <td>Bangalore Bazaar, Legislators Home, Dr. ambedk...</td>\n",
       "      <td>12.987485</td>\n",
       "      <td>77.604906</td>\n",
       "    </tr>\n",
       "    <tr>\n",
       "      <th>1</th>\n",
       "      <td>560002</td>\n",
       "      <td>Bangalore Fort, Bangalore City, Bangalore Corp...</td>\n",
       "      <td>12.971599</td>\n",
       "      <td>77.594563</td>\n",
       "    </tr>\n",
       "    <tr>\n",
       "      <th>2</th>\n",
       "      <td>560003</td>\n",
       "      <td>Vyalikaval Extn, Malleswaram, Palace Guttahall...</td>\n",
       "      <td>13.008350</td>\n",
       "      <td>77.561450</td>\n",
       "    </tr>\n",
       "    <tr>\n",
       "      <th>3</th>\n",
       "      <td>560004</td>\n",
       "      <td>Pasmpamahakavi Road, Basavanagudi, Shankarpura...</td>\n",
       "      <td>12.945400</td>\n",
       "      <td>77.577600</td>\n",
       "    </tr>\n",
       "    <tr>\n",
       "      <th>4</th>\n",
       "      <td>560005</td>\n",
       "      <td>Jeevanahalli, Fraser Town</td>\n",
       "      <td>13.071300</td>\n",
       "      <td>77.590500</td>\n",
       "    </tr>\n",
       "  </tbody>\n",
       "</table>\n",
       "</div>"
      ],
      "text/plain": [
       "   Pincode                                           Location   Latitude  \\\n",
       "0   560001  Bangalore Bazaar, Legislators Home, Dr. ambedk...  12.987485   \n",
       "1   560002  Bangalore Fort, Bangalore City, Bangalore Corp...  12.971599   \n",
       "2   560003  Vyalikaval Extn, Malleswaram, Palace Guttahall...  13.008350   \n",
       "3   560004  Pasmpamahakavi Road, Basavanagudi, Shankarpura...  12.945400   \n",
       "4   560005                          Jeevanahalli, Fraser Town  13.071300   \n",
       "\n",
       "   Longitude  \n",
       "0  77.604906  \n",
       "1  77.594563  \n",
       "2  77.561450  \n",
       "3  77.577600  \n",
       "4  77.590500  "
      ]
     },
     "execution_count": 1,
     "metadata": {},
     "output_type": "execute_result"
    }
   ],
   "source": [
    "import numpy as np\n",
    "import pandas as pd\n",
    "import requests\n",
    "df= pd.read_csv('Bangalore_pincode_geolocation.csv') # Read the csv data\n",
    "df.head()"
   ]
  },
  {
   "cell_type": "markdown",
   "metadata": {},
   "source": [
    "\n",
    "___Data3:___ Bangalore city geographical coordinates data will be utilized as input for the Foursquare API, that will be leveraged to provision venues information for each neighborhood.We will use the Foursquare API to explore neighborhoods in Bangalore City. The below is image of the Foursquare API data."
   ]
  },
  {
   "cell_type": "code",
   "execution_count": 4,
   "metadata": {},
   "outputs": [
    {
     "data": {
      "image/png": "[encoded data removed]",
      "text/plain": [
       "<IPython.core.display.Image object>"
      ]
     },
     "execution_count": 4,
     "metadata": {},
     "output_type": "execute_result"
    }
   ],
   "source": [
    "from IPython.display import Image\n",
    "Image(filename='Table.png') "
   ]
  },
  {
   "cell_type": "code",
   "execution_count": null,
   "metadata": {},
   "outputs": [],
   "source": []
  }
 ],
 "metadata": {
  "kernelspec": {
   "display_name": "Python",
   "language": "python",
   "name": "conda-env-python-py"
  },
  "language_info": {
   "codemirror_mode": {
    "name": "ipython",
    "version": 3
   },
   "file_extension": ".py",
   "mimetype": "text/x-python",
   "name": "python",
   "nbconvert_exporter": "python",
   "pygments_lexer": "ipython3",
   "version": "3.6.7"
  }
 },
 "nbformat": 4,
 "nbformat_minor": 4
}
